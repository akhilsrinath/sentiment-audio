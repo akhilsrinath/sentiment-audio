{
  "nbformat": 4,
  "nbformat_minor": 0,
  "metadata": {
    "colab": {
      "name": "speech_sentiment.ipynb",
      "provenance": []
    },
    "kernelspec": {
      "name": "python3",
      "display_name": "Python 3"
    }
  },
  "cells": [
    {
      "cell_type": "code",
      "metadata": {
        "id": "Xsfxk2n6LtTZ",
        "colab_type": "code",
        "colab": {
          "base_uri": "https://localhost:8080/",
          "height": 34
        },
        "outputId": "92ead8d6-8488-4d8e-97e3-3bc44f1f01f6"
      },
      "source": [
        "!pip install SpeechRecognition"
      ],
      "execution_count": 15,
      "outputs": [
        {
          "output_type": "stream",
          "text": [
            "Requirement already satisfied: SpeechRecognition in /usr/local/lib/python3.6/dist-packages (3.8.1)\n"
          ],
          "name": "stdout"
        }
      ]
    },
    {
      "cell_type": "code",
      "metadata": {
        "id": "T1YR5jvGhWDl",
        "colab_type": "code",
        "colab": {
          "base_uri": "https://localhost:8080/",
          "height": 85
        },
        "outputId": "93a4a7a5-597e-4321-a387-d1f201b9ca3a"
      },
      "source": [
        "import speech_recognition as sr\n",
        "from textblob import TextBlob\n",
        "import nltk\n",
        "nltk.download('punkt')\n",
        "nltk.download('stopwords')\n",
        "from nltk.tokenize import word_tokenize\n",
        "from nltk.corpus import stopwords\n",
        "stop_words = stopwords.words('english')"
      ],
      "execution_count": 16,
      "outputs": [
        {
          "output_type": "stream",
          "text": [
            "[nltk_data] Downloading package punkt to /root/nltk_data...\n",
            "[nltk_data]   Package punkt is already up-to-date!\n",
            "[nltk_data] Downloading package stopwords to /root/nltk_data...\n",
            "[nltk_data]   Package stopwords is already up-to-date!\n"
          ],
          "name": "stdout"
        }
      ]
    },
    {
      "cell_type": "code",
      "metadata": {
        "id": "lQonDIH_l1QX",
        "colab_type": "code",
        "colab": {}
      },
      "source": [
        "def sentiment_of_audio(audiofile):\n",
        "  r = sr.Recognizer()\n",
        "  sample = sr.AudioFile(audiofile)\n",
        "  with sample as source:\n",
        "    audio = r.record(source)\n",
        "  text = r.recognize_google(audio)\n",
        "  tokens = word_tokenize(text)\n",
        "  clean_text = [i for i in tokens if i not in stop_words]\n",
        "  clean_text = [x.lower() for x in clean_text]\n",
        "  clean_text = [word for word in clean_text if word.isalpha()]\n",
        "  clean_string = ' '.join(word for word in clean_text)\n",
        "  sentiment = TextBlob(clean_string).sentiment\n",
        "  return sentiment"
      ],
      "execution_count": 0,
      "outputs": []
    },
    {
      "cell_type": "code",
      "metadata": {
        "id": "6GB9PMKqpNGZ",
        "colab_type": "code",
        "colab": {
          "base_uri": "https://localhost:8080/",
          "height": 34
        },
        "outputId": "6ff63733-fc0d-4398-f402-a8fcc86c48b0"
      },
      "source": [
        "sentiment_of_audio('.../male.wav')"
      ],
      "execution_count": 19,
      "outputs": [
        {
          "output_type": "execute_result",
          "data": {
            "text/plain": [
              "Sentiment(polarity=0.049064625850340146, subjectivity=0.43137755102040815)"
            ]
          },
          "metadata": {
            "tags": []
          },
          "execution_count": 19
        }
      ]
    },
    {
      "cell_type": "code",
      "metadata": {
        "id": "kE5AI-77pgHk",
        "colab_type": "code",
        "colab": {}
      },
      "source": [
        ""
      ],
      "execution_count": 0,
      "outputs": []
    }
  ]
}